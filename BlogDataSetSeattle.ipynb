
```python
#Import libraries
import pandas as pd
import datetime as dt
import numpy as np
import seaborn as sn
import matplotlib.pyplot as plt
%matplotlib inline
```


```python
df_lis = pd.read_csv('listings.csv')
df_cal=pd.read_csv('calendar.csv')
```


```python
#Get information about the number of rows and columns
print(df_lis.shape)
print(df_cal.shape)


```

    (3818, 92)
    (1393570, 4)



```python
#View of the first three rows of the data set
df_lis.head(3)

```




<div>
<style scoped>
    .dataframe tbody tr th:only-of-type {
        vertical-align: middle;
    }

    .dataframe tbody tr th {
        vertical-align: top;
    }

    .dataframe thead th {
        text-align: right;
    }
</style>
<table border="1" class="dataframe">
  <thead>
    <tr style="text-align: right;">
      <th></th>
      <th>id</th>
      <th>listing_url</th>
      <th>scrape_id</th>
      <th>last_scraped</th>
      <th>name</th>
      <th>summary</th>
      <th>space</th>
      <th>description</th>
      <th>experiences_offered</th>
      <th>neighborhood_overview</th>
      <th>...</th>
      <th>review_scores_value</th>
      <th>requires_license</th>
      <th>license</th>
      <th>jurisdiction_names</th>
      <th>instant_bookable</th>
      <th>cancellation_policy</th>
      <th>require_guest_profile_picture</th>
      <th>require_guest_phone_verification</th>
      <th>calculated_host_listings_count</th>
      <th>reviews_per_month</th>
    </tr>
  </thead>
  <tbody>
    <tr>
      <th>0</th>
      <td>241032</td>
      <td>https://www.airbnb.com/rooms/241032</td>
      <td>20160104002432</td>
      <td>2016-01-04</td>
      <td>Stylish Queen Anne Apartment</td>
      <td>NaN</td>
      <td>Make your self at home in this charming one-be...</td>
      <td>Make your self at home in this charming one-be...</td>
      <td>none</td>
      <td>NaN</td>
      <td>...</td>
      <td>10.0</td>
      <td>f</td>
      <td>NaN</td>
      <td>WASHINGTON</td>
      <td>f</td>
      <td>moderate</td>
      <td>f</td>
      <td>f</td>
      <td>2</td>
      <td>4.07</td>
    </tr>
    <tr>
      <th>1</th>
      <td>953595</td>
      <td>https://www.airbnb.com/rooms/953595</td>
      <td>20160104002432</td>
      <td>2016-01-04</td>
      <td>Bright &amp; Airy Queen Anne Apartment</td>
      <td>Chemically sensitive? We've removed the irrita...</td>
      <td>Beautiful, hypoallergenic apartment in an extr...</td>
      <td>Chemically sensitive? We've removed the irrita...</td>
      <td>none</td>
      <td>Queen Anne is a wonderful, truly functional vi...</td>
      <td>...</td>
      <td>10.0</td>
      <td>f</td>
      <td>NaN</td>
      <td>WASHINGTON</td>
      <td>f</td>
      <td>strict</td>
      <td>t</td>
      <td>t</td>
      <td>6</td>
      <td>1.48</td>
    </tr>
    <tr>
      <th>2</th>
      <td>3308979</td>
      <td>https://www.airbnb.com/rooms/3308979</td>
      <td>20160104002432</td>
      <td>2016-01-04</td>
      <td>New Modern House-Amazing water view</td>
      <td>New modern house built in 2013.  Spectacular s...</td>
      <td>Our house is modern, light and fresh with a wa...</td>
      <td>New modern house built in 2013.  Spectacular s...</td>
      <td>none</td>
      <td>Upper Queen Anne is a charming neighborhood fu...</td>
      <td>...</td>
      <td>10.0</td>
      <td>f</td>
      <td>NaN</td>
      <td>WASHINGTON</td>
      <td>f</td>
      <td>strict</td>
      <td>f</td>
      <td>f</td>
      <td>2</td>
      <td>1.15</td>
    </tr>
  </tbody>
</table>
<p>3 rows × 92 columns</p>
</div>




```python
#View of the first three rows of the data set
df_cal.head(3)

```




<div>
<style scoped>
    .dataframe tbody tr th:only-of-type {
        vertical-align: middle;
    }

    .dataframe tbody tr th {
        vertical-align: top;
    }

    .dataframe thead th {
        text-align: right;
    }
</style>
<table border="1" class="dataframe">
  <thead>
    <tr style="text-align: right;">
      <th></th>
      <th>listing_id</th>
      <th>date</th>
      <th>available</th>
      <th>price</th>
    </tr>
  </thead>
  <tbody>
    <tr>
      <th>0</th>
      <td>241032</td>
      <td>2016-01-04</td>
      <td>t</td>
      <td>$85.00</td>
    </tr>
    <tr>
      <th>1</th>
      <td>241032</td>
      <td>2016-01-05</td>
      <td>t</td>
      <td>$85.00</td>
    </tr>
    <tr>
      <th>2</th>
      <td>241032</td>
      <td>2016-01-06</td>
      <td>f</td>
      <td>NaN</td>
    </tr>
  </tbody>
</table>
</div>




```python
df_lis.isnull().sum()

```




    id                                    0
    listing_url                           0
    scrape_id                             0
    last_scraped                          0
    name                                  0
                                       ... 
    cancellation_policy                   0
    require_guest_profile_picture         0
    require_guest_phone_verification      0
    calculated_host_listings_count        0
    reviews_per_month                   627
    Length: 92, dtype: int64




```python
df_cal.isnull().sum()

```




    listing_id         0
    date               0
    available          0
    price         459028
    dtype: int64




```python
# The data types and the number of these data types in the dataset
df_lis.dtypes.value_counts()


```




    object     62
    float64    17
    int64      13
    Name: count, dtype: int64




```python
# The data types and the number of these data types in the dataset
df_cal.dtypes.value_counts()

```




    object    3
    int64     1
    Name: count, dtype: int64




```python

df_cal.sample(3)

```




<div>
<style scoped>
    .dataframe tbody tr th:only-of-type {
        vertical-align: middle;
    }

    .dataframe tbody tr th {
        vertical-align: top;
    }

    .dataframe thead th {
        text-align: right;
    }
</style>
<table border="1" class="dataframe">
  <thead>
    <tr style="text-align: right;">
      <th></th>
      <th>listing_id</th>
      <th>date</th>
      <th>available</th>
      <th>price</th>
    </tr>
  </thead>
  <tbody>
    <tr>
      <th>274172</th>
      <td>9465815</td>
      <td>2016-03-01</td>
      <td>f</td>
      <td>NaN</td>
    </tr>
    <tr>
      <th>542740</th>
      <td>8100190</td>
      <td>2016-12-19</td>
      <td>t</td>
      <td>$215.00</td>
    </tr>
    <tr>
      <th>632888</th>
      <td>9296887</td>
      <td>2016-12-12</td>
      <td>t</td>
      <td>$55.00</td>
    </tr>
  </tbody>
</table>
</div>




```python
df_cal.dtypes[df_cal.dtypes=='int64']
```




    listing_id    int64
    dtype: object




```python
pd.set_option('display.max_rows', 4)
df_cal.dtypes[df_cal.dtypes=='object']
```




    date         object
    available    object
    price        object
    dtype: object




```python
## Convert datatype

df_cal['price'] = df_cal['price'].str.replace(',', '')
df_cal['price'] = df_cal['price'].str.replace('$', '')
df_cal['price'] = df_cal['price'].astype(float)

```


```python
#Convert column date to datetime
df_cal['date'] = pd.to_datetime(df_cal['date'])



```


```python
df_cal.info()

```

    <class 'pandas.core.frame.DataFrame'>
    RangeIndex: 1393570 entries, 0 to 1393569
    Data columns (total 4 columns):
     #   Column      Non-Null Count    Dtype         
    ---  ------      --------------    -----         
     0   listing_id  1393570 non-null  int64         
     1   date        1393570 non-null  datetime64[ns]
     2   available   1393570 non-null  object        
     3   price       934542 non-null   float64       
    dtypes: datetime64[ns](1), float64(1), int64(1), object(1)
    memory usage: 42.5+ MB



```python
#Clean Data
#Remove missing values in column price
df_cal = df_cal.dropna(subset=["price"])
```


```python
df_cal.isnull().sum()

```




    listing_id    0
    date          0
    available     0
    price         0
    dtype: int64




```python
#Rename columns to join datasets
df_lis = df_lis.rename(columns = {'id': 'listing_id'})

```


```python
##Join Data Set for Analysis
df_join = pd.merge(df_lis, df_cal, on=['listing_id', 'listing_id'])

```


```python
df_join.head(3)

```




<div>
<style scoped>
    .dataframe tbody tr th:only-of-type {
        vertical-align: middle;
    }

    .dataframe tbody tr th {
        vertical-align: top;
    }

    .dataframe thead th {
        text-align: right;
    }
</style>
<table border="1" class="dataframe">
  <thead>
    <tr style="text-align: right;">
      <th></th>
      <th>listing_id</th>
      <th>listing_url</th>
      <th>scrape_id</th>
      <th>last_scraped</th>
      <th>name</th>
      <th>summary</th>
      <th>space</th>
      <th>description</th>
      <th>experiences_offered</th>
      <th>neighborhood_overview</th>
      <th>...</th>
      <th>jurisdiction_names</th>
      <th>instant_bookable</th>
      <th>cancellation_policy</th>
      <th>require_guest_profile_picture</th>
      <th>require_guest_phone_verification</th>
      <th>calculated_host_listings_count</th>
      <th>reviews_per_month</th>
      <th>date</th>
      <th>available</th>
      <th>price_y</th>
    </tr>
  </thead>
  <tbody>
    <tr>
      <th>0</th>
      <td>241032</td>
      <td>https://www.airbnb.com/rooms/241032</td>
      <td>20160104002432</td>
      <td>2016-01-04</td>
      <td>Stylish Queen Anne Apartment</td>
      <td>NaN</td>
      <td>Make your self at home in this charming one-be...</td>
      <td>Make your self at home in this charming one-be...</td>
      <td>none</td>
      <td>NaN</td>
      <td>...</td>
      <td>WASHINGTON</td>
      <td>f</td>
      <td>moderate</td>
      <td>f</td>
      <td>f</td>
      <td>2</td>
      <td>4.07</td>
      <td>2016-01-04</td>
      <td>t</td>
      <td>85.0</td>
    </tr>
    <tr>
      <th>1</th>
      <td>241032</td>
      <td>https://www.airbnb.com/rooms/241032</td>
      <td>20160104002432</td>
      <td>2016-01-04</td>
      <td>Stylish Queen Anne Apartment</td>
      <td>NaN</td>
      <td>Make your self at home in this charming one-be...</td>
      <td>Make your self at home in this charming one-be...</td>
      <td>none</td>
      <td>NaN</td>
      <td>...</td>
      <td>WASHINGTON</td>
      <td>f</td>
      <td>moderate</td>
      <td>f</td>
      <td>f</td>
      <td>2</td>
      <td>4.07</td>
      <td>2016-01-05</td>
      <td>t</td>
      <td>85.0</td>
    </tr>
    <tr>
      <th>2</th>
      <td>241032</td>
      <td>https://www.airbnb.com/rooms/241032</td>
      <td>20160104002432</td>
      <td>2016-01-04</td>
      <td>Stylish Queen Anne Apartment</td>
      <td>NaN</td>
      <td>Make your self at home in this charming one-be...</td>
      <td>Make your self at home in this charming one-be...</td>
      <td>none</td>
      <td>NaN</td>
      <td>...</td>
      <td>WASHINGTON</td>
      <td>f</td>
      <td>moderate</td>
      <td>f</td>
      <td>f</td>
      <td>2</td>
      <td>4.07</td>
      <td>2016-01-13</td>
      <td>t</td>
      <td>85.0</td>
    </tr>
  </tbody>
</table>
<p>3 rows × 95 columns</p>
</div>




```python
# Convert column neighbourhood to categorical variable 
df_join['neighbourhood_group_cleansed'] = df_join['neighbourhood_group_cleansed'].astype('category')
```


```python
df_join.describe()

```




<div>
<style scoped>
    .dataframe tbody tr th:only-of-type {
        vertical-align: middle;
    }

    .dataframe tbody tr th {
        vertical-align: top;
    }

    .dataframe thead th {
        text-align: right;
    }
</style>
<table border="1" class="dataframe">
  <thead>
    <tr style="text-align: right;">
      <th></th>
      <th>listing_id</th>
      <th>scrape_id</th>
      <th>host_id</th>
      <th>host_listings_count</th>
      <th>host_total_listings_count</th>
      <th>latitude</th>
      <th>longitude</th>
      <th>accommodates</th>
      <th>bathrooms</th>
      <th>bedrooms</th>
      <th>...</th>
      <th>review_scores_cleanliness</th>
      <th>review_scores_checkin</th>
      <th>review_scores_communication</th>
      <th>review_scores_location</th>
      <th>review_scores_value</th>
      <th>license</th>
      <th>calculated_host_listings_count</th>
      <th>reviews_per_month</th>
      <th>date</th>
      <th>price_y</th>
    </tr>
  </thead>
  <tbody>
    <tr>
      <th>count</th>
      <td>9.345420e+05</td>
      <td>9.345420e+05</td>
      <td>9.345420e+05</td>
      <td>934450.000000</td>
      <td>934450.000000</td>
      <td>934542.000000</td>
      <td>934542.000000</td>
      <td>934542.000000</td>
      <td>929739.000000</td>
      <td>932539.000000</td>
      <td>...</td>
      <td>788613.000000</td>
      <td>787724.000000</td>
      <td>789050.000000</td>
      <td>788526.000000</td>
      <td>788428.000000</td>
      <td>0.0</td>
      <td>934542.000000</td>
      <td>795176.000000</td>
      <td>934542</td>
      <td>934542.000000</td>
    </tr>
    <tr>
      <th>mean</th>
      <td>5.305517e+06</td>
      <td>2.016010e+13</td>
      <td>1.515821e+07</td>
      <td>8.432040</td>
      <td>8.432040</td>
      <td>47.628973</td>
      <td>-122.333234</td>
      <td>3.317107</td>
      <td>1.258756</td>
      <td>1.284918</td>
      <td>...</td>
      <td>9.547571</td>
      <td>9.782761</td>
      <td>9.803579</td>
      <td>9.598126</td>
      <td>9.427747</td>
      <td>NaN</td>
      <td>3.363974</td>
      <td>2.080989</td>
      <td>2016-07-08 08:12:42.911458816</td>
      <td>137.944859</td>
    </tr>
    <tr>
      <th>...</th>
      <td>...</td>
      <td>...</td>
      <td>...</td>
      <td>...</td>
      <td>...</td>
      <td>...</td>
      <td>...</td>
      <td>...</td>
      <td>...</td>
      <td>...</td>
      <td>...</td>
      <td>...</td>
      <td>...</td>
      <td>...</td>
      <td>...</td>
      <td>...</td>
      <td>...</td>
      <td>...</td>
      <td>...</td>
      <td>...</td>
      <td>...</td>
    </tr>
    <tr>
      <th>max</th>
      <td>1.034016e+07</td>
      <td>2.016010e+13</td>
      <td>5.316922e+07</td>
      <td>502.000000</td>
      <td>502.000000</td>
      <td>47.733358</td>
      <td>-122.240607</td>
      <td>16.000000</td>
      <td>8.000000</td>
      <td>7.000000</td>
      <td>...</td>
      <td>10.000000</td>
      <td>10.000000</td>
      <td>10.000000</td>
      <td>10.000000</td>
      <td>10.000000</td>
      <td>NaN</td>
      <td>37.000000</td>
      <td>12.150000</td>
      <td>2017-01-02 00:00:00</td>
      <td>1650.000000</td>
    </tr>
    <tr>
      <th>std</th>
      <td>2.974821e+06</td>
      <td>4.025315e+02</td>
      <td>1.439163e+07</td>
      <td>31.245915</td>
      <td>31.245915</td>
      <td>0.043938</td>
      <td>0.032318</td>
      <td>1.997961</td>
      <td>0.582572</td>
      <td>0.847862</td>
      <td>...</td>
      <td>0.795431</td>
      <td>0.578456</td>
      <td>0.561913</td>
      <td>0.629512</td>
      <td>0.739723</td>
      <td>NaN</td>
      <td>6.729892</td>
      <td>1.813673</td>
      <td>NaN</td>
      <td>105.062870</td>
    </tr>
  </tbody>
</table>
<p>8 rows × 32 columns</p>
</div>




```python
#Count records by date
df_demand = df_join.groupby(df_join['date'].dt.strftime('%Y-%m'))['listing_id'].count()
df_demand = pd.DataFrame(df_demand).reset_index()
df_demand = df_demand.rename(columns = {'date':'Month', 'listing_id':'Count'})
#Summary table view
df_demand
```




<div>
<style scoped>
    .dataframe tbody tr th:only-of-type {
        vertical-align: middle;
    }

    .dataframe tbody tr th {
        vertical-align: top;
    }

    .dataframe thead th {
        text-align: right;
    }
</style>
<table border="1" class="dataframe">
  <thead>
    <tr style="text-align: right;">
      <th></th>
      <th>Month</th>
      <th>Count</th>
    </tr>
  </thead>
  <tbody>
    <tr>
      <th>0</th>
      <td>2016-01</td>
      <td>59239</td>
    </tr>
    <tr>
      <th>1</th>
      <td>2016-02</td>
      <td>73321</td>
    </tr>
    <tr>
      <th>...</th>
      <td>...</td>
      <td>...</td>
    </tr>
    <tr>
      <th>11</th>
      <td>2016-12</td>
      <td>87061</td>
    </tr>
    <tr>
      <th>12</th>
      <td>2017-01</td>
      <td>5698</td>
    </tr>
  </tbody>
</table>
<p>13 rows × 2 columns</p>
</div>




```python
#Graph demand by month
sn.barplot(data=df_demand , x="Month", y="Count")
plt.xticks(rotation = 35)


```




    (array([ 0,  1,  2,  3,  4,  5,  6,  7,  8,  9, 10, 11, 12]),
     [Text(0, 0, '2016-01'),
      Text(1, 0, '2016-02'),
      Text(2, 0, '2016-03'),
      Text(3, 0, '2016-04'),
      Text(4, 0, '2016-05'),
      Text(5, 0, '2016-06'),
      Text(6, 0, '2016-07'),
      Text(7, 0, '2016-08'),
      Text(8, 0, '2016-09'),
      Text(9, 0, '2016-10'),
      Text(10, 0, '2016-11'),
      Text(11, 0, '2016-12'),
      Text(12, 0, '2017-01')])




    
![png](output_23_1.png)
    



```python
##Count room type by date
room_type = df_lis.groupby('room_type')['listing_id'].count()
room_type = pd.DataFrame(room_type).reset_index()
room_type = room_type.rename(columns = {'listing_id': 'Count'})
#Summary table view
room_type
```




<div>
<style scoped>
    .dataframe tbody tr th:only-of-type {
        vertical-align: middle;
    }

    .dataframe tbody tr th {
        vertical-align: top;
    }

    .dataframe thead th {
        text-align: right;
    }
</style>
<table border="1" class="dataframe">
  <thead>
    <tr style="text-align: right;">
      <th></th>
      <th>room_type</th>
      <th>Count</th>
    </tr>
  </thead>
  <tbody>
    <tr>
      <th>0</th>
      <td>Entire home/apt</td>
      <td>2541</td>
    </tr>
    <tr>
      <th>1</th>
      <td>Private room</td>
      <td>1160</td>
    </tr>
    <tr>
      <th>2</th>
      <td>Shared room</td>
      <td>117</td>
    </tr>
  </tbody>
</table>
</div>




```python
#Graph of the number of rooms by type
sn.barplot(data=room_type, x="room_type", y="Count", hue="room_type")
```




    <Axes: xlabel='room_type', ylabel='Count'>




    
![png](output_25_1.png)
    



```python
room_type_avgprice = df_join.groupby('room_type')['price_y'].mean()
room_type_avgprice = pd.DataFrame(room_type_avgprice).reset_index()
room_type_avgprice = room_type_avgprice.rename(columns = {'price_y': 'avg_price'})
room_type_avgprice.avg_price = round(room_type_avgprice.avg_price, 2)
room_type_avgprice
```




<div>
<style scoped>
    .dataframe tbody tr th:only-of-type {
        vertical-align: middle;
    }

    .dataframe tbody tr th {
        vertical-align: top;
    }

    .dataframe thead th {
        text-align: right;
    }
</style>
<table border="1" class="dataframe">
  <thead>
    <tr style="text-align: right;">
      <th></th>
      <th>room_type</th>
      <th>avg_price</th>
    </tr>
  </thead>
  <tbody>
    <tr>
      <th>0</th>
      <td>Entire home/apt</td>
      <td>173.47</td>
    </tr>
    <tr>
      <th>1</th>
      <td>Private room</td>
      <td>79.35</td>
    </tr>
    <tr>
      <th>2</th>
      <td>Shared room</td>
      <td>48.43</td>
    </tr>
  </tbody>
</table>
</div>




```python
sn.lineplot(room_type_avgprice, x="room_type", y="avg_price")

```




    <Axes: xlabel='room_type', ylabel='avg_price'>




    
![png](output_27_1.png)
    



```python

```
