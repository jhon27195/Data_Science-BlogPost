{
 "cells": [
  {
   "cell_type": "markdown",
   "id": "d7d67ccd-830b-4c5c-bf27-f5b9289c6607",
   "metadata": {},
   "source": [
    "# Writing a Data Scientist Blog Post "
   ]
  },
  {
   "cell_type": "markdown",
   "id": "6099b590-7a31-42f3-8424-d35908a19bdd",
   "metadata": {},
   "source": [
    "In this project, as part of deliverable 1 of the data scientist program, the Seattle Airbnb data has been analyzed. In which some questions have been formulated and which will be resolved with the following solution following the CRISP-DM methodology"
   ]
  },
  {
   "cell_type": "markdown",
   "id": "5d83ee50-0d92-4b86-a8a3-3327cb8b415b",
   "metadata": {},
   "source": [
    "Suppose we are going to have relevant information for tourists or people who need to stay in the city of Seattle for A or B reason. It is important that the public knows the influx of people in the city, the types of accommodation and the prices of each one.\n",
    "Based on the above, the following questions are formulated: \n",
    "\n",
    "What are the months of greatest demand in the year?\r\n",
    "\r\n",
    "What is the type of rooms and how many of each?What is the average daily price per room type?\n",
    "\n",
    "\n",
    "\n"
   ]
  },
  {
   "cell_type": "markdown",
   "id": "0e6db7cb-6a58-4793-9df9-b261c9207000",
   "metadata": {},
   "source": [
    "## Import Libraries"
   ]
  },
  {
   "cell_type": "code",
   "execution_count": 5,
   "id": "abd4d7db-26e0-4d4d-9f54-744afaa1e731",
   "metadata": {},
   "outputs": [],
   "source": [
    "#Import libraries\n",
    "import pandas as pd\n",
    "import datetime as dt\n",
    "import numpy as np\n",
    "import seaborn as sn\n",
    "import matplotlib.pyplot as plt\n",
    "%matplotlib inline"
   ]
  },
  {
   "cell_type": "markdown",
   "id": "4d540a2c-c099-41d7-9036-3770b579aa9f",
   "metadata": {},
   "source": [
    "## Load data sets"
   ]
  },
  {
   "cell_type": "code",
   "execution_count": 7,
   "id": "213662f7-42bb-45c5-80d7-db4094b0ed68",
   "metadata": {},
   "outputs": [],
   "source": [
    "df_lis = pd.read_csv('listings.csv')\n",
    "df_cal=pd.read_csv('calendar.csv')"
   ]
  },
  {
   "cell_type": "markdown",
   "id": "44e7b8f5-a5f0-411f-a889-f4e8141b49a0",
   "metadata": {},
   "source": [
    "## Explore data"
   ]
  },
  {
   "cell_type": "code",
   "execution_count": 9,
   "id": "52100abb-437c-4a3f-bc8c-df34a60c913c",
   "metadata": {},
   "outputs": [
    {
     "name": "stdout",
     "output_type": "stream",
     "text": [
      "(3818, 92)\n",
      "(1393570, 4)\n"
     ]
    }
   ],
   "source": [
    "#Get information about the number of rows and columns\n",
    "print(df_lis.shape)\n",
    "print(df_cal.shape)\n",
    "\n"
   ]
  },
  {
   "cell_type": "code",
   "execution_count": 10,
   "id": "e02a9525-16b7-4a6d-b772-d6bab94d9a2d",
   "metadata": {},
   "outputs": [
    {
     "data": {
      "text/html": [
       "<div>\n",
       "<style scoped>\n",
       "    .dataframe tbody tr th:only-of-type {\n",
       "        vertical-align: middle;\n",
       "    }\n",
       "\n",
       "    .dataframe tbody tr th {\n",
       "        vertical-align: top;\n",
       "    }\n",
       "\n",
       "    .dataframe thead th {\n",
       "        text-align: right;\n",
       "    }\n",
       "</style>\n",
       "<table border=\"1\" class=\"dataframe\">\n",
       "  <thead>\n",
       "    <tr style=\"text-align: right;\">\n",
       "      <th></th>\n",
       "      <th>id</th>\n",
       "      <th>listing_url</th>\n",
       "      <th>scrape_id</th>\n",
       "      <th>last_scraped</th>\n",
       "      <th>name</th>\n",
       "      <th>summary</th>\n",
       "      <th>space</th>\n",
       "      <th>description</th>\n",
       "      <th>experiences_offered</th>\n",
       "      <th>neighborhood_overview</th>\n",
       "      <th>...</th>\n",
       "      <th>review_scores_value</th>\n",
       "      <th>requires_license</th>\n",
       "      <th>license</th>\n",
       "      <th>jurisdiction_names</th>\n",
       "      <th>instant_bookable</th>\n",
       "      <th>cancellation_policy</th>\n",
       "      <th>require_guest_profile_picture</th>\n",
       "      <th>require_guest_phone_verification</th>\n",
       "      <th>calculated_host_listings_count</th>\n",
       "      <th>reviews_per_month</th>\n",
       "    </tr>\n",
       "  </thead>\n",
       "  <tbody>\n",
       "    <tr>\n",
       "      <th>0</th>\n",
       "      <td>241032</td>\n",
       "      <td>https://www.airbnb.com/rooms/241032</td>\n",
       "      <td>20160104002432</td>\n",
       "      <td>2016-01-04</td>\n",
       "      <td>Stylish Queen Anne Apartment</td>\n",
       "      <td>NaN</td>\n",
       "      <td>Make your self at home in this charming one-be...</td>\n",
       "      <td>Make your self at home in this charming one-be...</td>\n",
       "      <td>none</td>\n",
       "      <td>NaN</td>\n",
       "      <td>...</td>\n",
       "      <td>10.0</td>\n",
       "      <td>f</td>\n",
       "      <td>NaN</td>\n",
       "      <td>WASHINGTON</td>\n",
       "      <td>f</td>\n",
       "      <td>moderate</td>\n",
       "      <td>f</td>\n",
       "      <td>f</td>\n",
       "      <td>2</td>\n",
       "      <td>4.07</td>\n",
       "    </tr>\n",
       "    <tr>\n",
       "      <th>1</th>\n",
       "      <td>953595</td>\n",
       "      <td>https://www.airbnb.com/rooms/953595</td>\n",
       "      <td>20160104002432</td>\n",
       "      <td>2016-01-04</td>\n",
       "      <td>Bright &amp; Airy Queen Anne Apartment</td>\n",
       "      <td>Chemically sensitive? We've removed the irrita...</td>\n",
       "      <td>Beautiful, hypoallergenic apartment in an extr...</td>\n",
       "      <td>Chemically sensitive? We've removed the irrita...</td>\n",
       "      <td>none</td>\n",
       "      <td>Queen Anne is a wonderful, truly functional vi...</td>\n",
       "      <td>...</td>\n",
       "      <td>10.0</td>\n",
       "      <td>f</td>\n",
       "      <td>NaN</td>\n",
       "      <td>WASHINGTON</td>\n",
       "      <td>f</td>\n",
       "      <td>strict</td>\n",
       "      <td>t</td>\n",
       "      <td>t</td>\n",
       "      <td>6</td>\n",
       "      <td>1.48</td>\n",
       "    </tr>\n",
       "    <tr>\n",
       "      <th>2</th>\n",
       "      <td>3308979</td>\n",
       "      <td>https://www.airbnb.com/rooms/3308979</td>\n",
       "      <td>20160104002432</td>\n",
       "      <td>2016-01-04</td>\n",
       "      <td>New Modern House-Amazing water view</td>\n",
       "      <td>New modern house built in 2013.  Spectacular s...</td>\n",
       "      <td>Our house is modern, light and fresh with a wa...</td>\n",
       "      <td>New modern house built in 2013.  Spectacular s...</td>\n",
       "      <td>none</td>\n",
       "      <td>Upper Queen Anne is a charming neighborhood fu...</td>\n",
       "      <td>...</td>\n",
       "      <td>10.0</td>\n",
       "      <td>f</td>\n",
       "      <td>NaN</td>\n",
       "      <td>WASHINGTON</td>\n",
       "      <td>f</td>\n",
       "      <td>strict</td>\n",
       "      <td>f</td>\n",
       "      <td>f</td>\n",
       "      <td>2</td>\n",
       "      <td>1.15</td>\n",
       "    </tr>\n",
       "  </tbody>\n",
       "</table>\n",
       "<p>3 rows × 92 columns</p>\n",
       "</div>"
      ],
      "text/plain": [
       "        id                           listing_url       scrape_id last_scraped  \\\n",
       "0   241032   https://www.airbnb.com/rooms/241032  20160104002432   2016-01-04   \n",
       "1   953595   https://www.airbnb.com/rooms/953595  20160104002432   2016-01-04   \n",
       "2  3308979  https://www.airbnb.com/rooms/3308979  20160104002432   2016-01-04   \n",
       "\n",
       "                                  name  \\\n",
       "0         Stylish Queen Anne Apartment   \n",
       "1   Bright & Airy Queen Anne Apartment   \n",
       "2  New Modern House-Amazing water view   \n",
       "\n",
       "                                             summary  \\\n",
       "0                                                NaN   \n",
       "1  Chemically sensitive? We've removed the irrita...   \n",
       "2  New modern house built in 2013.  Spectacular s...   \n",
       "\n",
       "                                               space  \\\n",
       "0  Make your self at home in this charming one-be...   \n",
       "1  Beautiful, hypoallergenic apartment in an extr...   \n",
       "2  Our house is modern, light and fresh with a wa...   \n",
       "\n",
       "                                         description experiences_offered  \\\n",
       "0  Make your self at home in this charming one-be...                none   \n",
       "1  Chemically sensitive? We've removed the irrita...                none   \n",
       "2  New modern house built in 2013.  Spectacular s...                none   \n",
       "\n",
       "                               neighborhood_overview  ... review_scores_value  \\\n",
       "0                                                NaN  ...                10.0   \n",
       "1  Queen Anne is a wonderful, truly functional vi...  ...                10.0   \n",
       "2  Upper Queen Anne is a charming neighborhood fu...  ...                10.0   \n",
       "\n",
       "  requires_license license jurisdiction_names instant_bookable  \\\n",
       "0                f     NaN         WASHINGTON                f   \n",
       "1                f     NaN         WASHINGTON                f   \n",
       "2                f     NaN         WASHINGTON                f   \n",
       "\n",
       "  cancellation_policy  require_guest_profile_picture  \\\n",
       "0            moderate                              f   \n",
       "1              strict                              t   \n",
       "2              strict                              f   \n",
       "\n",
       "  require_guest_phone_verification calculated_host_listings_count  \\\n",
       "0                                f                              2   \n",
       "1                                t                              6   \n",
       "2                                f                              2   \n",
       "\n",
       "  reviews_per_month  \n",
       "0              4.07  \n",
       "1              1.48  \n",
       "2              1.15  \n",
       "\n",
       "[3 rows x 92 columns]"
      ]
     },
     "execution_count": 10,
     "metadata": {},
     "output_type": "execute_result"
    }
   ],
   "source": [
    "#View of the first three rows of the data set\n",
    "df_lis.head(3)\n"
   ]
  },
  {
   "cell_type": "code",
   "execution_count": 11,
   "id": "e73b670d-1a88-428d-9dd2-a14f0f1dbab9",
   "metadata": {},
   "outputs": [
    {
     "data": {
      "text/html": [
       "<div>\n",
       "<style scoped>\n",
       "    .dataframe tbody tr th:only-of-type {\n",
       "        vertical-align: middle;\n",
       "    }\n",
       "\n",
       "    .dataframe tbody tr th {\n",
       "        vertical-align: top;\n",
       "    }\n",
       "\n",
       "    .dataframe thead th {\n",
       "        text-align: right;\n",
       "    }\n",
       "</style>\n",
       "<table border=\"1\" class=\"dataframe\">\n",
       "  <thead>\n",
       "    <tr style=\"text-align: right;\">\n",
       "      <th></th>\n",
       "      <th>listing_id</th>\n",
       "      <th>date</th>\n",
       "      <th>available</th>\n",
       "      <th>price</th>\n",
       "    </tr>\n",
       "  </thead>\n",
       "  <tbody>\n",
       "    <tr>\n",
       "      <th>0</th>\n",
       "      <td>241032</td>\n",
       "      <td>2016-01-04</td>\n",
       "      <td>t</td>\n",
       "      <td>$85.00</td>\n",
       "    </tr>\n",
       "    <tr>\n",
       "      <th>1</th>\n",
       "      <td>241032</td>\n",
       "      <td>2016-01-05</td>\n",
       "      <td>t</td>\n",
       "      <td>$85.00</td>\n",
       "    </tr>\n",
       "    <tr>\n",
       "      <th>2</th>\n",
       "      <td>241032</td>\n",
       "      <td>2016-01-06</td>\n",
       "      <td>f</td>\n",
       "      <td>NaN</td>\n",
       "    </tr>\n",
       "  </tbody>\n",
       "</table>\n",
       "</div>"
      ],
      "text/plain": [
       "   listing_id        date available   price\n",
       "0      241032  2016-01-04         t  $85.00\n",
       "1      241032  2016-01-05         t  $85.00\n",
       "2      241032  2016-01-06         f     NaN"
      ]
     },
     "execution_count": 11,
     "metadata": {},
     "output_type": "execute_result"
    }
   ],
   "source": [
    "#View of the first three rows of the data set\n",
    "df_cal.head(3)\n"
   ]
  },
  {
   "cell_type": "code",
   "execution_count": 12,
   "id": "58070521-f5a5-49a4-b61a-a58a3efcbb61",
   "metadata": {},
   "outputs": [
    {
     "data": {
      "text/plain": [
       "id                                    0\n",
       "listing_url                           0\n",
       "scrape_id                             0\n",
       "last_scraped                          0\n",
       "name                                  0\n",
       "                                   ... \n",
       "cancellation_policy                   0\n",
       "require_guest_profile_picture         0\n",
       "require_guest_phone_verification      0\n",
       "calculated_host_listings_count        0\n",
       "reviews_per_month                   627\n",
       "Length: 92, dtype: int64"
      ]
     },
     "execution_count": 12,
     "metadata": {},
     "output_type": "execute_result"
    }
   ],
   "source": [
    "df_lis.isnull().sum()\n"
   ]
  },
  {
   "cell_type": "code",
   "execution_count": 13,
   "id": "f0671b64-2575-4c5e-aa00-b1799f07b58f",
   "metadata": {},
   "outputs": [
    {
     "data": {
      "text/plain": [
       "listing_id         0\n",
       "date               0\n",
       "available          0\n",
       "price         459028\n",
       "dtype: int64"
      ]
     },
     "execution_count": 13,
     "metadata": {},
     "output_type": "execute_result"
    }
   ],
   "source": [
    "df_cal.isnull().sum()\n"
   ]
  },
  {
   "cell_type": "code",
   "execution_count": 14,
   "id": "77275510-3dbc-454f-bb0f-44b2ede2c753",
   "metadata": {},
   "outputs": [
    {
     "data": {
      "text/plain": [
       "object     62\n",
       "float64    17\n",
       "int64      13\n",
       "Name: count, dtype: int64"
      ]
     },
     "execution_count": 14,
     "metadata": {},
     "output_type": "execute_result"
    }
   ],
   "source": [
    "# The data types and the number of these data types in the dataset\n",
    "df_lis.dtypes.value_counts()\n",
    "\n"
   ]
  },
  {
   "cell_type": "code",
   "execution_count": 15,
   "id": "013d2eaf-64ea-444a-a6ba-7edeaae90a9e",
   "metadata": {},
   "outputs": [
    {
     "data": {
      "text/plain": [
       "object    3\n",
       "int64     1\n",
       "Name: count, dtype: int64"
      ]
     },
     "execution_count": 15,
     "metadata": {},
     "output_type": "execute_result"
    }
   ],
   "source": [
    "# The data types and the number of these data types in the dataset\n",
    "df_cal.dtypes.value_counts()\n"
   ]
  },
  {
   "cell_type": "code",
   "execution_count": 16,
   "id": "133aa87f-8cdc-466f-b061-2e1e82dbfa16",
   "metadata": {},
   "outputs": [
    {
     "data": {
      "text/html": [
       "<div>\n",
       "<style scoped>\n",
       "    .dataframe tbody tr th:only-of-type {\n",
       "        vertical-align: middle;\n",
       "    }\n",
       "\n",
       "    .dataframe tbody tr th {\n",
       "        vertical-align: top;\n",
       "    }\n",
       "\n",
       "    .dataframe thead th {\n",
       "        text-align: right;\n",
       "    }\n",
       "</style>\n",
       "<table border=\"1\" class=\"dataframe\">\n",
       "  <thead>\n",
       "    <tr style=\"text-align: right;\">\n",
       "      <th></th>\n",
       "      <th>listing_id</th>\n",
       "      <th>date</th>\n",
       "      <th>available</th>\n",
       "      <th>price</th>\n",
       "    </tr>\n",
       "  </thead>\n",
       "  <tbody>\n",
       "    <tr>\n",
       "      <th>1030870</th>\n",
       "      <td>13068</td>\n",
       "      <td>2016-04-23</td>\n",
       "      <td>t</td>\n",
       "      <td>$574.00</td>\n",
       "    </tr>\n",
       "    <tr>\n",
       "      <th>7760</th>\n",
       "      <td>4125779</td>\n",
       "      <td>2016-04-08</td>\n",
       "      <td>t</td>\n",
       "      <td>$119.00</td>\n",
       "    </tr>\n",
       "    <tr>\n",
       "      <th>31500</th>\n",
       "      <td>3294243</td>\n",
       "      <td>2016-04-23</td>\n",
       "      <td>t</td>\n",
       "      <td>$170.00</td>\n",
       "    </tr>\n",
       "  </tbody>\n",
       "</table>\n",
       "</div>"
      ],
      "text/plain": [
       "         listing_id        date available    price\n",
       "1030870       13068  2016-04-23         t  $574.00\n",
       "7760        4125779  2016-04-08         t  $119.00\n",
       "31500       3294243  2016-04-23         t  $170.00"
      ]
     },
     "execution_count": 16,
     "metadata": {},
     "output_type": "execute_result"
    }
   ],
   "source": [
    "\n",
    "df_cal.sample(3)\n"
   ]
  },
  {
   "cell_type": "code",
   "execution_count": 17,
   "id": "66357b3a-ecda-4aa7-9ec1-9eff3c4275ac",
   "metadata": {},
   "outputs": [
    {
     "data": {
      "text/plain": [
       "listing_id    int64\n",
       "dtype: object"
      ]
     },
     "execution_count": 17,
     "metadata": {},
     "output_type": "execute_result"
    }
   ],
   "source": [
    "df_cal.dtypes[df_cal.dtypes=='int64']"
   ]
  },
  {
   "cell_type": "code",
   "execution_count": 18,
   "id": "c2d4e01a-f551-451f-94c4-410ff4690ec2",
   "metadata": {},
   "outputs": [
    {
     "data": {
      "text/plain": [
       "date         object\n",
       "available    object\n",
       "price        object\n",
       "dtype: object"
      ]
     },
     "execution_count": 18,
     "metadata": {},
     "output_type": "execute_result"
    }
   ],
   "source": [
    "pd.set_option('display.max_rows', 4)\n",
    "df_cal.dtypes[df_cal.dtypes=='object']"
   ]
  },
  {
   "cell_type": "markdown",
   "id": "d8bc174b-780c-4273-8d70-2cfcbe175fb9",
   "metadata": {},
   "source": [
    "## Clean data"
   ]
  },
  {
   "cell_type": "code",
   "execution_count": 20,
   "id": "127113bd-0158-4575-8a47-b42edfa668c0",
   "metadata": {},
   "outputs": [],
   "source": [
    "## Convert datatype\n",
    "\n",
    "df_cal['price'] = df_cal['price'].str.replace(',', '')\n",
    "df_cal['price'] = df_cal['price'].str.replace('$', '')\n",
    "df_cal['price'] = df_cal['price'].astype(float)\n"
   ]
  },
  {
   "cell_type": "code",
   "execution_count": 21,
   "id": "a073401f-c3e2-4e88-b501-a9b090e17161",
   "metadata": {},
   "outputs": [],
   "source": [
    "#Convert column date to datetime\n",
    "df_cal['date'] = pd.to_datetime(df_cal['date'])"
   ]
  },
  {
   "cell_type": "code",
   "execution_count": 22,
   "id": "33474b9b-a635-421f-bd4d-1da05cb12dc1",
   "metadata": {},
   "outputs": [
    {
     "name": "stdout",
     "output_type": "stream",
     "text": [
      "<class 'pandas.core.frame.DataFrame'>\n",
      "RangeIndex: 1393570 entries, 0 to 1393569\n",
      "Data columns (total 4 columns):\n",
      " #   Column      Non-Null Count    Dtype         \n",
      "---  ------      --------------    -----         \n",
      " 0   listing_id  1393570 non-null  int64         \n",
      " 1   date        1393570 non-null  datetime64[ns]\n",
      " 2   available   1393570 non-null  object        \n",
      " 3   price       934542 non-null   float64       \n",
      "dtypes: datetime64[ns](1), float64(1), int64(1), object(1)\n",
      "memory usage: 42.5+ MB\n"
     ]
    }
   ],
   "source": [
    "#Make sure the data is in the type you need\n",
    "df_cal.info()"
   ]
  },
  {
   "cell_type": "code",
   "execution_count": 23,
   "id": "a31ee29e-1579-4f95-885e-8b30d22541be",
   "metadata": {},
   "outputs": [],
   "source": [
    "#Clean Data\n",
    "#Remove missing values in column price\n",
    "df_cal = df_cal.dropna(subset=[\"price\"])"
   ]
  },
  {
   "cell_type": "code",
   "execution_count": 24,
   "id": "aea35b25-132c-4eaf-8573-962168c6f4c7",
   "metadata": {},
   "outputs": [
    {
     "data": {
      "text/plain": [
       "listing_id    0\n",
       "date          0\n",
       "available     0\n",
       "price         0\n",
       "dtype: int64"
      ]
     },
     "execution_count": 24,
     "metadata": {},
     "output_type": "execute_result"
    }
   ],
   "source": [
    "df_cal.isnull().sum()"
   ]
  },
  {
   "cell_type": "code",
   "execution_count": 25,
   "id": "179c7610-bedd-4e77-8f51-b3c974ad2a1a",
   "metadata": {},
   "outputs": [],
   "source": [
    "#Rename columns to join datasets\n",
    "df_cal = df_cal.rename(columns = {'listing_id': 'id'})\n"
   ]
  },
  {
   "cell_type": "markdown",
   "id": "9ef7322b-95f1-4021-accc-7afa5277d05a",
   "metadata": {},
   "source": [
    "## Join tables to analyze data"
   ]
  },
  {
   "cell_type": "code",
   "execution_count": 27,
   "id": "af741079-fee8-41ad-a880-2bd5f6ffc7b2",
   "metadata": {},
   "outputs": [],
   "source": [
    "##Join Data Set for Analysis\n",
    "df_join = pd.merge(df_lis, df_cal, on=['id', 'id'])\n"
   ]
  },
  {
   "cell_type": "code",
   "execution_count": 28,
   "id": "90e2d104-4c1d-45b7-8ad2-7db36af7619a",
   "metadata": {},
   "outputs": [
    {
     "data": {
      "text/html": [
       "<div>\n",
       "<style scoped>\n",
       "    .dataframe tbody tr th:only-of-type {\n",
       "        vertical-align: middle;\n",
       "    }\n",
       "\n",
       "    .dataframe tbody tr th {\n",
       "        vertical-align: top;\n",
       "    }\n",
       "\n",
       "    .dataframe thead th {\n",
       "        text-align: right;\n",
       "    }\n",
       "</style>\n",
       "<table border=\"1\" class=\"dataframe\">\n",
       "  <thead>\n",
       "    <tr style=\"text-align: right;\">\n",
       "      <th></th>\n",
       "      <th>id</th>\n",
       "      <th>listing_url</th>\n",
       "      <th>scrape_id</th>\n",
       "      <th>last_scraped</th>\n",
       "      <th>name</th>\n",
       "      <th>summary</th>\n",
       "      <th>space</th>\n",
       "      <th>description</th>\n",
       "      <th>experiences_offered</th>\n",
       "      <th>neighborhood_overview</th>\n",
       "      <th>...</th>\n",
       "      <th>jurisdiction_names</th>\n",
       "      <th>instant_bookable</th>\n",
       "      <th>cancellation_policy</th>\n",
       "      <th>require_guest_profile_picture</th>\n",
       "      <th>require_guest_phone_verification</th>\n",
       "      <th>calculated_host_listings_count</th>\n",
       "      <th>reviews_per_month</th>\n",
       "      <th>date</th>\n",
       "      <th>available</th>\n",
       "      <th>price_y</th>\n",
       "    </tr>\n",
       "  </thead>\n",
       "  <tbody>\n",
       "    <tr>\n",
       "      <th>0</th>\n",
       "      <td>241032</td>\n",
       "      <td>https://www.airbnb.com/rooms/241032</td>\n",
       "      <td>20160104002432</td>\n",
       "      <td>2016-01-04</td>\n",
       "      <td>Stylish Queen Anne Apartment</td>\n",
       "      <td>NaN</td>\n",
       "      <td>Make your self at home in this charming one-be...</td>\n",
       "      <td>Make your self at home in this charming one-be...</td>\n",
       "      <td>none</td>\n",
       "      <td>NaN</td>\n",
       "      <td>...</td>\n",
       "      <td>WASHINGTON</td>\n",
       "      <td>f</td>\n",
       "      <td>moderate</td>\n",
       "      <td>f</td>\n",
       "      <td>f</td>\n",
       "      <td>2</td>\n",
       "      <td>4.07</td>\n",
       "      <td>2016-01-04</td>\n",
       "      <td>t</td>\n",
       "      <td>85.0</td>\n",
       "    </tr>\n",
       "    <tr>\n",
       "      <th>1</th>\n",
       "      <td>241032</td>\n",
       "      <td>https://www.airbnb.com/rooms/241032</td>\n",
       "      <td>20160104002432</td>\n",
       "      <td>2016-01-04</td>\n",
       "      <td>Stylish Queen Anne Apartment</td>\n",
       "      <td>NaN</td>\n",
       "      <td>Make your self at home in this charming one-be...</td>\n",
       "      <td>Make your self at home in this charming one-be...</td>\n",
       "      <td>none</td>\n",
       "      <td>NaN</td>\n",
       "      <td>...</td>\n",
       "      <td>WASHINGTON</td>\n",
       "      <td>f</td>\n",
       "      <td>moderate</td>\n",
       "      <td>f</td>\n",
       "      <td>f</td>\n",
       "      <td>2</td>\n",
       "      <td>4.07</td>\n",
       "      <td>2016-01-05</td>\n",
       "      <td>t</td>\n",
       "      <td>85.0</td>\n",
       "    </tr>\n",
       "    <tr>\n",
       "      <th>2</th>\n",
       "      <td>241032</td>\n",
       "      <td>https://www.airbnb.com/rooms/241032</td>\n",
       "      <td>20160104002432</td>\n",
       "      <td>2016-01-04</td>\n",
       "      <td>Stylish Queen Anne Apartment</td>\n",
       "      <td>NaN</td>\n",
       "      <td>Make your self at home in this charming one-be...</td>\n",
       "      <td>Make your self at home in this charming one-be...</td>\n",
       "      <td>none</td>\n",
       "      <td>NaN</td>\n",
       "      <td>...</td>\n",
       "      <td>WASHINGTON</td>\n",
       "      <td>f</td>\n",
       "      <td>moderate</td>\n",
       "      <td>f</td>\n",
       "      <td>f</td>\n",
       "      <td>2</td>\n",
       "      <td>4.07</td>\n",
       "      <td>2016-01-13</td>\n",
       "      <td>t</td>\n",
       "      <td>85.0</td>\n",
       "    </tr>\n",
       "  </tbody>\n",
       "</table>\n",
       "<p>3 rows × 95 columns</p>\n",
       "</div>"
      ],
      "text/plain": [
       "       id                          listing_url       scrape_id last_scraped  \\\n",
       "0  241032  https://www.airbnb.com/rooms/241032  20160104002432   2016-01-04   \n",
       "1  241032  https://www.airbnb.com/rooms/241032  20160104002432   2016-01-04   \n",
       "2  241032  https://www.airbnb.com/rooms/241032  20160104002432   2016-01-04   \n",
       "\n",
       "                           name summary  \\\n",
       "0  Stylish Queen Anne Apartment     NaN   \n",
       "1  Stylish Queen Anne Apartment     NaN   \n",
       "2  Stylish Queen Anne Apartment     NaN   \n",
       "\n",
       "                                               space  \\\n",
       "0  Make your self at home in this charming one-be...   \n",
       "1  Make your self at home in this charming one-be...   \n",
       "2  Make your self at home in this charming one-be...   \n",
       "\n",
       "                                         description experiences_offered  \\\n",
       "0  Make your self at home in this charming one-be...                none   \n",
       "1  Make your self at home in this charming one-be...                none   \n",
       "2  Make your self at home in this charming one-be...                none   \n",
       "\n",
       "  neighborhood_overview  ... jurisdiction_names instant_bookable  \\\n",
       "0                   NaN  ...         WASHINGTON                f   \n",
       "1                   NaN  ...         WASHINGTON                f   \n",
       "2                   NaN  ...         WASHINGTON                f   \n",
       "\n",
       "  cancellation_policy require_guest_profile_picture  \\\n",
       "0            moderate                             f   \n",
       "1            moderate                             f   \n",
       "2            moderate                             f   \n",
       "\n",
       "  require_guest_phone_verification calculated_host_listings_count  \\\n",
       "0                                f                              2   \n",
       "1                                f                              2   \n",
       "2                                f                              2   \n",
       "\n",
       "   reviews_per_month       date available price_y  \n",
       "0               4.07 2016-01-04         t    85.0  \n",
       "1               4.07 2016-01-05         t    85.0  \n",
       "2               4.07 2016-01-13         t    85.0  \n",
       "\n",
       "[3 rows x 95 columns]"
      ]
     },
     "execution_count": 28,
     "metadata": {},
     "output_type": "execute_result"
    }
   ],
   "source": [
    "df_join.head(3)\n"
   ]
  },
  {
   "cell_type": "code",
   "execution_count": 29,
   "id": "551948ec-80ec-4e24-b059-92e9bf75ef9b",
   "metadata": {},
   "outputs": [
    {
     "data": {
      "text/html": [
       "<div>\n",
       "<style scoped>\n",
       "    .dataframe tbody tr th:only-of-type {\n",
       "        vertical-align: middle;\n",
       "    }\n",
       "\n",
       "    .dataframe tbody tr th {\n",
       "        vertical-align: top;\n",
       "    }\n",
       "\n",
       "    .dataframe thead th {\n",
       "        text-align: right;\n",
       "    }\n",
       "</style>\n",
       "<table border=\"1\" class=\"dataframe\">\n",
       "  <thead>\n",
       "    <tr style=\"text-align: right;\">\n",
       "      <th></th>\n",
       "      <th>id</th>\n",
       "      <th>scrape_id</th>\n",
       "      <th>host_id</th>\n",
       "      <th>host_listings_count</th>\n",
       "      <th>host_total_listings_count</th>\n",
       "      <th>latitude</th>\n",
       "      <th>longitude</th>\n",
       "      <th>accommodates</th>\n",
       "      <th>bathrooms</th>\n",
       "      <th>bedrooms</th>\n",
       "      <th>...</th>\n",
       "      <th>review_scores_cleanliness</th>\n",
       "      <th>review_scores_checkin</th>\n",
       "      <th>review_scores_communication</th>\n",
       "      <th>review_scores_location</th>\n",
       "      <th>review_scores_value</th>\n",
       "      <th>license</th>\n",
       "      <th>calculated_host_listings_count</th>\n",
       "      <th>reviews_per_month</th>\n",
       "      <th>date</th>\n",
       "      <th>price_y</th>\n",
       "    </tr>\n",
       "  </thead>\n",
       "  <tbody>\n",
       "    <tr>\n",
       "      <th>count</th>\n",
       "      <td>9.345420e+05</td>\n",
       "      <td>9.345420e+05</td>\n",
       "      <td>9.345420e+05</td>\n",
       "      <td>934450.000000</td>\n",
       "      <td>934450.000000</td>\n",
       "      <td>934542.000000</td>\n",
       "      <td>934542.000000</td>\n",
       "      <td>934542.000000</td>\n",
       "      <td>929739.000000</td>\n",
       "      <td>932539.000000</td>\n",
       "      <td>...</td>\n",
       "      <td>788613.000000</td>\n",
       "      <td>787724.000000</td>\n",
       "      <td>789050.000000</td>\n",
       "      <td>788526.000000</td>\n",
       "      <td>788428.000000</td>\n",
       "      <td>0.0</td>\n",
       "      <td>934542.000000</td>\n",
       "      <td>795176.000000</td>\n",
       "      <td>934542</td>\n",
       "      <td>934542.000000</td>\n",
       "    </tr>\n",
       "    <tr>\n",
       "      <th>mean</th>\n",
       "      <td>5.305517e+06</td>\n",
       "      <td>2.016010e+13</td>\n",
       "      <td>1.515821e+07</td>\n",
       "      <td>8.432040</td>\n",
       "      <td>8.432040</td>\n",
       "      <td>47.628973</td>\n",
       "      <td>-122.333234</td>\n",
       "      <td>3.317107</td>\n",
       "      <td>1.258756</td>\n",
       "      <td>1.284918</td>\n",
       "      <td>...</td>\n",
       "      <td>9.547571</td>\n",
       "      <td>9.782761</td>\n",
       "      <td>9.803579</td>\n",
       "      <td>9.598126</td>\n",
       "      <td>9.427747</td>\n",
       "      <td>NaN</td>\n",
       "      <td>3.363974</td>\n",
       "      <td>2.080989</td>\n",
       "      <td>2016-07-08 08:12:42.911458816</td>\n",
       "      <td>137.944859</td>\n",
       "    </tr>\n",
       "    <tr>\n",
       "      <th>...</th>\n",
       "      <td>...</td>\n",
       "      <td>...</td>\n",
       "      <td>...</td>\n",
       "      <td>...</td>\n",
       "      <td>...</td>\n",
       "      <td>...</td>\n",
       "      <td>...</td>\n",
       "      <td>...</td>\n",
       "      <td>...</td>\n",
       "      <td>...</td>\n",
       "      <td>...</td>\n",
       "      <td>...</td>\n",
       "      <td>...</td>\n",
       "      <td>...</td>\n",
       "      <td>...</td>\n",
       "      <td>...</td>\n",
       "      <td>...</td>\n",
       "      <td>...</td>\n",
       "      <td>...</td>\n",
       "      <td>...</td>\n",
       "      <td>...</td>\n",
       "    </tr>\n",
       "    <tr>\n",
       "      <th>max</th>\n",
       "      <td>1.034016e+07</td>\n",
       "      <td>2.016010e+13</td>\n",
       "      <td>5.316922e+07</td>\n",
       "      <td>502.000000</td>\n",
       "      <td>502.000000</td>\n",
       "      <td>47.733358</td>\n",
       "      <td>-122.240607</td>\n",
       "      <td>16.000000</td>\n",
       "      <td>8.000000</td>\n",
       "      <td>7.000000</td>\n",
       "      <td>...</td>\n",
       "      <td>10.000000</td>\n",
       "      <td>10.000000</td>\n",
       "      <td>10.000000</td>\n",
       "      <td>10.000000</td>\n",
       "      <td>10.000000</td>\n",
       "      <td>NaN</td>\n",
       "      <td>37.000000</td>\n",
       "      <td>12.150000</td>\n",
       "      <td>2017-01-02 00:00:00</td>\n",
       "      <td>1650.000000</td>\n",
       "    </tr>\n",
       "    <tr>\n",
       "      <th>std</th>\n",
       "      <td>2.974821e+06</td>\n",
       "      <td>4.025315e+02</td>\n",
       "      <td>1.439163e+07</td>\n",
       "      <td>31.245915</td>\n",
       "      <td>31.245915</td>\n",
       "      <td>0.043938</td>\n",
       "      <td>0.032318</td>\n",
       "      <td>1.997961</td>\n",
       "      <td>0.582572</td>\n",
       "      <td>0.847862</td>\n",
       "      <td>...</td>\n",
       "      <td>0.795431</td>\n",
       "      <td>0.578456</td>\n",
       "      <td>0.561913</td>\n",
       "      <td>0.629512</td>\n",
       "      <td>0.739723</td>\n",
       "      <td>NaN</td>\n",
       "      <td>6.729892</td>\n",
       "      <td>1.813673</td>\n",
       "      <td>NaN</td>\n",
       "      <td>105.062870</td>\n",
       "    </tr>\n",
       "  </tbody>\n",
       "</table>\n",
       "<p>8 rows × 32 columns</p>\n",
       "</div>"
      ],
      "text/plain": [
       "                 id     scrape_id       host_id  host_listings_count  \\\n",
       "count  9.345420e+05  9.345420e+05  9.345420e+05        934450.000000   \n",
       "mean   5.305517e+06  2.016010e+13  1.515821e+07             8.432040   \n",
       "...             ...           ...           ...                  ...   \n",
       "max    1.034016e+07  2.016010e+13  5.316922e+07           502.000000   \n",
       "std    2.974821e+06  4.025315e+02  1.439163e+07            31.245915   \n",
       "\n",
       "       host_total_listings_count       latitude      longitude   accommodates  \\\n",
       "count              934450.000000  934542.000000  934542.000000  934542.000000   \n",
       "mean                    8.432040      47.628973    -122.333234       3.317107   \n",
       "...                          ...            ...            ...            ...   \n",
       "max                   502.000000      47.733358    -122.240607      16.000000   \n",
       "std                    31.245915       0.043938       0.032318       1.997961   \n",
       "\n",
       "           bathrooms       bedrooms  ...  review_scores_cleanliness  \\\n",
       "count  929739.000000  932539.000000  ...              788613.000000   \n",
       "mean        1.258756       1.284918  ...                   9.547571   \n",
       "...              ...            ...  ...                        ...   \n",
       "max         8.000000       7.000000  ...                  10.000000   \n",
       "std         0.582572       0.847862  ...                   0.795431   \n",
       "\n",
       "       review_scores_checkin  review_scores_communication  \\\n",
       "count          787724.000000                789050.000000   \n",
       "mean                9.782761                     9.803579   \n",
       "...                      ...                          ...   \n",
       "max                10.000000                    10.000000   \n",
       "std                 0.578456                     0.561913   \n",
       "\n",
       "       review_scores_location  review_scores_value  license  \\\n",
       "count           788526.000000        788428.000000      0.0   \n",
       "mean                 9.598126             9.427747      NaN   \n",
       "...                       ...                  ...      ...   \n",
       "max                 10.000000            10.000000      NaN   \n",
       "std                  0.629512             0.739723      NaN   \n",
       "\n",
       "       calculated_host_listings_count  reviews_per_month  \\\n",
       "count                   934542.000000      795176.000000   \n",
       "mean                         3.363974           2.080989   \n",
       "...                               ...                ...   \n",
       "max                         37.000000          12.150000   \n",
       "std                          6.729892           1.813673   \n",
       "\n",
       "                                date        price_y  \n",
       "count                         934542  934542.000000  \n",
       "mean   2016-07-08 08:12:42.911458816     137.944859  \n",
       "...                              ...            ...  \n",
       "max              2017-01-02 00:00:00    1650.000000  \n",
       "std                              NaN     105.062870  \n",
       "\n",
       "[8 rows x 32 columns]"
      ]
     },
     "execution_count": 29,
     "metadata": {},
     "output_type": "execute_result"
    }
   ],
   "source": [
    "df_join.describe()\n"
   ]
  },
  {
   "cell_type": "markdown",
   "id": "45467b73-91ba-4381-9211-d3c5e78ce12f",
   "metadata": {},
   "source": [
    "# Results"
   ]
  },
  {
   "cell_type": "markdown",
   "id": "ba793633-681e-4557-8f58-86821cd752a8",
   "metadata": {},
   "source": [
    "## Question 1. What are the months of greatest demand in the year?"
   ]
  },
  {
   "cell_type": "code",
   "execution_count": 32,
   "id": "68554fe8-e0d9-46f2-9a2e-0b820d10c322",
   "metadata": {},
   "outputs": [
    {
     "data": {
      "text/html": [
       "<div>\n",
       "<style scoped>\n",
       "    .dataframe tbody tr th:only-of-type {\n",
       "        vertical-align: middle;\n",
       "    }\n",
       "\n",
       "    .dataframe tbody tr th {\n",
       "        vertical-align: top;\n",
       "    }\n",
       "\n",
       "    .dataframe thead th {\n",
       "        text-align: right;\n",
       "    }\n",
       "</style>\n",
       "<table border=\"1\" class=\"dataframe\">\n",
       "  <thead>\n",
       "    <tr style=\"text-align: right;\">\n",
       "      <th></th>\n",
       "      <th>id</th>\n",
       "      <th>listing_url</th>\n",
       "      <th>scrape_id</th>\n",
       "      <th>last_scraped</th>\n",
       "      <th>name</th>\n",
       "      <th>summary</th>\n",
       "      <th>space</th>\n",
       "      <th>description</th>\n",
       "      <th>experiences_offered</th>\n",
       "      <th>neighborhood_overview</th>\n",
       "      <th>...</th>\n",
       "      <th>jurisdiction_names</th>\n",
       "      <th>instant_bookable</th>\n",
       "      <th>cancellation_policy</th>\n",
       "      <th>require_guest_profile_picture</th>\n",
       "      <th>require_guest_phone_verification</th>\n",
       "      <th>calculated_host_listings_count</th>\n",
       "      <th>reviews_per_month</th>\n",
       "      <th>date</th>\n",
       "      <th>available</th>\n",
       "      <th>price_y</th>\n",
       "    </tr>\n",
       "  </thead>\n",
       "  <tbody>\n",
       "    <tr>\n",
       "      <th>174161</th>\n",
       "      <td>1123977</td>\n",
       "      <td>https://www.airbnb.com/rooms/1123977</td>\n",
       "      <td>20160104002432</td>\n",
       "      <td>2016-01-04</td>\n",
       "      <td>Lovely 1 bedroom apartment</td>\n",
       "      <td>Instead of staying in a hotel, be our guests i...</td>\n",
       "      <td>Our home has a lovely daylight basement apartm...</td>\n",
       "      <td>Instead of staying in a hotel, be our guests i...</td>\n",
       "      <td>none</td>\n",
       "      <td>Located in a great Seattle neighborhood, this ...</td>\n",
       "      <td>...</td>\n",
       "      <td>WASHINGTON</td>\n",
       "      <td>t</td>\n",
       "      <td>strict</td>\n",
       "      <td>f</td>\n",
       "      <td>f</td>\n",
       "      <td>1</td>\n",
       "      <td>0.29</td>\n",
       "      <td>2016-02-25</td>\n",
       "      <td>t</td>\n",
       "      <td>150.0</td>\n",
       "    </tr>\n",
       "    <tr>\n",
       "      <th>858020</th>\n",
       "      <td>3817141</td>\n",
       "      <td>https://www.airbnb.com/rooms/3817141</td>\n",
       "      <td>20160104002432</td>\n",
       "      <td>2016-01-04</td>\n",
       "      <td>Charming home in Madison Park</td>\n",
       "      <td>Enjoy your stay in our clean and tidy updated ...</td>\n",
       "      <td>Our home is clean, quiet and very pleasant.</td>\n",
       "      <td>Enjoy your stay in our clean and tidy updated ...</td>\n",
       "      <td>none</td>\n",
       "      <td>Great for walking to the beach, restaurants an...</td>\n",
       "      <td>...</td>\n",
       "      <td>WASHINGTON</td>\n",
       "      <td>f</td>\n",
       "      <td>flexible</td>\n",
       "      <td>f</td>\n",
       "      <td>f</td>\n",
       "      <td>1</td>\n",
       "      <td>0.06</td>\n",
       "      <td>2016-03-29</td>\n",
       "      <td>t</td>\n",
       "      <td>200.0</td>\n",
       "    </tr>\n",
       "    <tr>\n",
       "      <th>273556</th>\n",
       "      <td>1494828</td>\n",
       "      <td>https://www.airbnb.com/rooms/1494828</td>\n",
       "      <td>20160104002432</td>\n",
       "      <td>2016-01-04</td>\n",
       "      <td>Modern+Clean 2BR Eastlake/Lk Union</td>\n",
       "      <td>Recently renovated 2BR, centrally located betw...</td>\n",
       "      <td>Tasteful and high quality furnishings and fini...</td>\n",
       "      <td>Recently renovated 2BR, centrally located betw...</td>\n",
       "      <td>none</td>\n",
       "      <td>Blocks away from Lake Union, a stone's throw f...</td>\n",
       "      <td>...</td>\n",
       "      <td>WASHINGTON</td>\n",
       "      <td>t</td>\n",
       "      <td>strict</td>\n",
       "      <td>f</td>\n",
       "      <td>f</td>\n",
       "      <td>4</td>\n",
       "      <td>2.83</td>\n",
       "      <td>2016-12-18</td>\n",
       "      <td>t</td>\n",
       "      <td>125.0</td>\n",
       "    </tr>\n",
       "  </tbody>\n",
       "</table>\n",
       "<p>3 rows × 95 columns</p>\n",
       "</div>"
      ],
      "text/plain": [
       "             id                           listing_url       scrape_id  \\\n",
       "174161  1123977  https://www.airbnb.com/rooms/1123977  20160104002432   \n",
       "858020  3817141  https://www.airbnb.com/rooms/3817141  20160104002432   \n",
       "273556  1494828  https://www.airbnb.com/rooms/1494828  20160104002432   \n",
       "\n",
       "       last_scraped                                name  \\\n",
       "174161   2016-01-04          Lovely 1 bedroom apartment   \n",
       "858020   2016-01-04       Charming home in Madison Park   \n",
       "273556   2016-01-04  Modern+Clean 2BR Eastlake/Lk Union   \n",
       "\n",
       "                                                  summary  \\\n",
       "174161  Instead of staying in a hotel, be our guests i...   \n",
       "858020  Enjoy your stay in our clean and tidy updated ...   \n",
       "273556  Recently renovated 2BR, centrally located betw...   \n",
       "\n",
       "                                                    space  \\\n",
       "174161  Our home has a lovely daylight basement apartm...   \n",
       "858020        Our home is clean, quiet and very pleasant.   \n",
       "273556  Tasteful and high quality furnishings and fini...   \n",
       "\n",
       "                                              description experiences_offered  \\\n",
       "174161  Instead of staying in a hotel, be our guests i...                none   \n",
       "858020  Enjoy your stay in our clean and tidy updated ...                none   \n",
       "273556  Recently renovated 2BR, centrally located betw...                none   \n",
       "\n",
       "                                    neighborhood_overview  ...  \\\n",
       "174161  Located in a great Seattle neighborhood, this ...  ...   \n",
       "858020  Great for walking to the beach, restaurants an...  ...   \n",
       "273556  Blocks away from Lake Union, a stone's throw f...  ...   \n",
       "\n",
       "       jurisdiction_names instant_bookable cancellation_policy  \\\n",
       "174161         WASHINGTON                t              strict   \n",
       "858020         WASHINGTON                f            flexible   \n",
       "273556         WASHINGTON                t              strict   \n",
       "\n",
       "       require_guest_profile_picture require_guest_phone_verification  \\\n",
       "174161                             f                                f   \n",
       "858020                             f                                f   \n",
       "273556                             f                                f   \n",
       "\n",
       "       calculated_host_listings_count  reviews_per_month       date available  \\\n",
       "174161                              1               0.29 2016-02-25         t   \n",
       "858020                              1               0.06 2016-03-29         t   \n",
       "273556                              4               2.83 2016-12-18         t   \n",
       "\n",
       "       price_y  \n",
       "174161   150.0  \n",
       "858020   200.0  \n",
       "273556   125.0  \n",
       "\n",
       "[3 rows x 95 columns]"
      ]
     },
     "execution_count": 32,
     "metadata": {},
     "output_type": "execute_result"
    }
   ],
   "source": [
    "df_join.sample(3)"
   ]
  },
  {
   "cell_type": "code",
   "execution_count": 33,
   "id": "d2d9da44-0aff-45a0-a36c-66f5eb19561f",
   "metadata": {},
   "outputs": [
    {
     "data": {
      "text/html": [
       "<div>\n",
       "<style scoped>\n",
       "    .dataframe tbody tr th:only-of-type {\n",
       "        vertical-align: middle;\n",
       "    }\n",
       "\n",
       "    .dataframe tbody tr th {\n",
       "        vertical-align: top;\n",
       "    }\n",
       "\n",
       "    .dataframe thead th {\n",
       "        text-align: right;\n",
       "    }\n",
       "</style>\n",
       "<table border=\"1\" class=\"dataframe\">\n",
       "  <thead>\n",
       "    <tr style=\"text-align: right;\">\n",
       "      <th></th>\n",
       "      <th>Month</th>\n",
       "      <th>Count</th>\n",
       "    </tr>\n",
       "  </thead>\n",
       "  <tbody>\n",
       "    <tr>\n",
       "      <th>0</th>\n",
       "      <td>2016-01</td>\n",
       "      <td>59239</td>\n",
       "    </tr>\n",
       "    <tr>\n",
       "      <th>1</th>\n",
       "      <td>2016-02</td>\n",
       "      <td>73321</td>\n",
       "    </tr>\n",
       "    <tr>\n",
       "      <th>...</th>\n",
       "      <td>...</td>\n",
       "      <td>...</td>\n",
       "    </tr>\n",
       "    <tr>\n",
       "      <th>11</th>\n",
       "      <td>2016-12</td>\n",
       "      <td>87061</td>\n",
       "    </tr>\n",
       "    <tr>\n",
       "      <th>12</th>\n",
       "      <td>2017-01</td>\n",
       "      <td>5698</td>\n",
       "    </tr>\n",
       "  </tbody>\n",
       "</table>\n",
       "<p>13 rows × 2 columns</p>\n",
       "</div>"
      ],
      "text/plain": [
       "      Month  Count\n",
       "0   2016-01  59239\n",
       "1   2016-02  73321\n",
       "..      ...    ...\n",
       "11  2016-12  87061\n",
       "12  2017-01   5698\n",
       "\n",
       "[13 rows x 2 columns]"
      ]
     },
     "execution_count": 33,
     "metadata": {},
     "output_type": "execute_result"
    }
   ],
   "source": [
    "#Count records by date\n",
    "df_demand = df_join.groupby(df_join['date'].dt.strftime('%Y-%m'))['id'].count()\n",
    "df_demand = pd.DataFrame(df_demand).reset_index()\n",
    "df_demand = df_demand.rename(columns = {'date':'Month', 'id':'Count'})\n",
    "#Summary table view\n",
    "df_demand"
   ]
  },
  {
   "cell_type": "code",
   "execution_count": 34,
   "id": "b22dd3fa-6adb-4580-8979-a07fcc1a0f02",
   "metadata": {},
   "outputs": [
    {
     "data": {
      "text/plain": [
       "(array([ 0,  1,  2,  3,  4,  5,  6,  7,  8,  9, 10, 11, 12]),\n",
       " [Text(0, 0, '2016-01'),\n",
       "  Text(1, 0, '2016-02'),\n",
       "  Text(2, 0, '2016-03'),\n",
       "  Text(3, 0, '2016-04'),\n",
       "  Text(4, 0, '2016-05'),\n",
       "  Text(5, 0, '2016-06'),\n",
       "  Text(6, 0, '2016-07'),\n",
       "  Text(7, 0, '2016-08'),\n",
       "  Text(8, 0, '2016-09'),\n",
       "  Text(9, 0, '2016-10'),\n",
       "  Text(10, 0, '2016-11'),\n",
       "  Text(11, 0, '2016-12'),\n",
       "  Text(12, 0, '2017-01')])"
      ]
     },
     "execution_count": 34,
     "metadata": {},
     "output_type": "execute_result"
    },
    {
     "data": {
      "image/png": "[encoded data removed]",
      "text/plain": [
       "<Figure size 640x480 with 1 Axes>"
      ]
     },
     "metadata": {},
     "output_type": "display_data"
    }
   ],
   "source": [
    "#Graph demand by month\n",
    "sn.barplot(data=df_demand , x=\"Month\", y=\"Count\")\n",
    "#Improve the visual angle of the legend\n",
    "plt.xticks(rotation = 35)"
   ]
  },
  {
   "cell_type": "markdown",
   "id": "73e14c30-9e9e-4172-a92a-27e46e9fffd2",
   "metadata": {},
   "source": [
    "### The most marked demand occurs in the last quarter of the year"
   ]
  },
  {
   "cell_type": "markdown",
   "id": "8e444db6-5121-4ee3-af06-ee30440bab1c",
   "metadata": {},
   "source": [
    "## Question 2. What is the type of rooms and how many of each?"
   ]
  },
  {
   "cell_type": "code",
   "execution_count": 37,
   "id": "5548e44c-89d7-488b-a815-7b99903654db",
   "metadata": {},
   "outputs": [
    {
     "name": "stdout",
     "output_type": "stream",
     "text": [
      "         room_type  Count\n",
      "0  Entire home/apt   2541\n",
      "1     Private room   1160\n",
      "2      Shared room    117\n"
     ]
    }
   ],
   "source": [
    "##Count room type by date\n",
    "room_type = df_lis.groupby('room_type')['id'].count()\n",
    "room_type = pd.DataFrame(room_type).reset_index()\n",
    "room_type = room_type.rename(columns = {'id': 'Count'})\n",
    "#Summary table view\n",
    "print(room_type)"
   ]
  },
  {
   "cell_type": "code",
   "execution_count": 38,
   "id": "2affce45-d1f8-419a-9fa6-798f47f44e25",
   "metadata": {},
   "outputs": [
    {
     "data": {
      "text/plain": [
       "<Axes: xlabel='room_type', ylabel='Count'>"
      ]
     },
     "execution_count": 38,
     "metadata": {},
     "output_type": "execute_result"
    },
    {
     "data": {
      "image/png": "[encoded data removed]",
      "text/plain": [
       "<Figure size 640x480 with 1 Axes>"
      ]
     },
     "metadata": {},
     "output_type": "display_data"
    }
   ],
   "source": [
    "#Graph of the number of rooms by type\n",
    "sn.barplot(data=room_type, x=\"room_type\", y=\"Count\")"
   ]
  },
  {
   "cell_type": "markdown",
   "id": "62ca223a-314d-4522-bbf7-8fce8b5a232f",
   "metadata": {},
   "source": [
    "### The room types are: Entire home/apt, private room and shared room, but the most common is Entire home/apt"
   ]
  },
  {
   "cell_type": "markdown",
   "id": "626c602c-e750-4078-9424-3e147466f500",
   "metadata": {},
   "source": [
    "## Question 3. What is the average daily price per room type?"
   ]
  },
  {
   "cell_type": "code",
   "execution_count": 41,
   "id": "452cbc18-b3d5-483d-8806-a64f0d9d6c23",
   "metadata": {},
   "outputs": [
    {
     "name": "stdout",
     "output_type": "stream",
     "text": [
      "         room_type  avg_price\n",
      "0  Entire home/apt     173.47\n",
      "1     Private room      79.35\n",
      "2      Shared room      48.43\n"
     ]
    }
   ],
   "source": [
    "room_type_avgprice = df_join.groupby('room_type')['price_y'].mean()\n",
    "room_type_avgprice = pd.DataFrame(room_type_avgprice).reset_index()\n",
    "room_type_avgprice = room_type_avgprice.rename(columns = {'price_y': 'avg_price'})\n",
    "room_type_avgprice.avg_price = round(room_type_avgprice.avg_price, 2)\n",
    "print(room_type_avgprice)"
   ]
  },
  {
   "cell_type": "code",
   "execution_count": 42,
   "id": "72e470d1-50ee-43a1-8ef2-e00e959fd5c4",
   "metadata": {},
   "outputs": [
    {
     "data": {
      "text/plain": [
       "<Axes: xlabel='room_type', ylabel='avg_price'>"
      ]
     },
     "execution_count": 42,
     "metadata": {},
     "output_type": "execute_result"
    },
    {
     "data": {
      "image/png": "[encoded data removed]",
      "text/plain": [
       "<Figure size 640x480 with 1 Axes>"
      ]
     },
     "metadata": {},
     "output_type": "display_data"
    }
   ],
   "source": [
    "sn.lineplot(data=room_type_avgprice, x=\"room_type\", y=\"avg_price\")\n"
   ]
  },
  {
   "cell_type": "markdown",
   "id": "638dbad1-04f4-44f9-9983-67967196475b",
   "metadata": {},
   "source": [
    "### If people want something economical they have the option of the Shared room which has an average price of 48.43, but if people like something private and with greater comfort there is the option of the Private room with an average price of 79.35 and the most complete that is the Entire home/apt with an average price per day of 173.47."
   ]
  },
  {
   "cell_type": "code",
   "execution_count": null,
   "id": "1704bee4-d618-4bae-9ca5-3c64866d022c",
   "metadata": {},
   "outputs": [],
   "source": []
  }
 ],
 "metadata": {
  "kernelspec": {
   "display_name": "anaconda-panel-2023.05-py310",
   "language": "python",
   "name": "conda-env-anaconda-panel-2023.05-py310-py"
  },
  "language_info": {
   "codemirror_mode": {
    "name": "ipython",
    "version": 3
   },
   "file_extension": ".py",
   "mimetype": "text/x-python",
   "name": "python",
   "nbconvert_exporter": "python",
   "pygments_lexer": "ipython3",
   "version": "3.11.5"
  }
 },
 "nbformat": 4,
 "nbformat_minor": 5
}
